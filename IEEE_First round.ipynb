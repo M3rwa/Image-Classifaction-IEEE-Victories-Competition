{
 "cells": [
  {
   "cell_type": "code",
   "execution_count": 1,
   "id": "c9e0d8ae",
   "metadata": {},
   "outputs": [],
   "source": [
    "import pandas as pd\n",
    "import numpy as np\n",
    "import seaborn as sns\n",
    "import matplotlib.pyplot as plt\n",
    "import re\n",
    "import warnings\n",
    "from IPython.display import display\n",
    "import os\n",
    "plt.style.use(\"seaborn\")\n",
    "%matplotlib inline  "
   ]
  },
  {
   "cell_type": "code",
   "execution_count": 2,
   "id": "1fb9b52f",
   "metadata": {},
   "outputs": [],
   "source": [
    "from sklearn.model_selection import train_test_split\n",
    "from sklearn.model_selection import KFold,RepeatedKFold\n",
    "from sklearn.model_selection import cross_val_score\n",
    "from sklearn.model_selection import cross_val_predict\n",
    "\n",
    "from sklearn import svm, tree, linear_model, neighbors, naive_bayes, ensemble, discriminant_analysis, gaussian_process\n",
    "#from xgboost import XGBClassifier\n",
    "#from lightgbm import LGBMRegressor\n",
    "\n",
    "\n",
    "#Common Model Helpers\n",
    "from sklearn.preprocessing import OneHotEncoder, LabelEncoder\n",
    "from sklearn import feature_selection\n",
    "from sklearn import model_selection\n",
    "from sklearn import metrics\n",
    "\n",
    "import warnings\n",
    "warnings.filterwarnings('ignore')"
   ]
  },
  {
   "cell_type": "code",
   "execution_count": 3,
   "id": "2f699869",
   "metadata": {},
   "outputs": [],
   "source": [
    "test_df = pd.read_csv('IEEE_test_data.csv')\n",
    "df = pd.read_csv('IEEE_train_data.csv')"
   ]
  },
  {
   "cell_type": "code",
   "execution_count": 4,
   "id": "8e0bc0b0",
   "metadata": {},
   "outputs": [
    {
     "data": {
      "text/html": [
       "<div>\n",
       "<style scoped>\n",
       "    .dataframe tbody tr th:only-of-type {\n",
       "        vertical-align: middle;\n",
       "    }\n",
       "\n",
       "    .dataframe tbody tr th {\n",
       "        vertical-align: top;\n",
       "    }\n",
       "\n",
       "    .dataframe thead th {\n",
       "        text-align: right;\n",
       "    }\n",
       "</style>\n",
       "<table border=\"1\" class=\"dataframe\">\n",
       "  <thead>\n",
       "    <tr style=\"text-align: right;\">\n",
       "      <th></th>\n",
       "      <th>id</th>\n",
       "      <th>timestamp</th>\n",
       "      <th>active_power_calculated_by_converter</th>\n",
       "      <th>active_power_raw</th>\n",
       "      <th>ambient_temperature</th>\n",
       "      <th>generator_speed</th>\n",
       "      <th>generator_winding_temp_max</th>\n",
       "      <th>grid_power10min_average</th>\n",
       "      <th>nc1_inside_temp</th>\n",
       "      <th>nacelle_temp</th>\n",
       "      <th>reactice_power_calculated_by_converter</th>\n",
       "      <th>reactive_power</th>\n",
       "      <th>wind_direction_raw</th>\n",
       "      <th>wind_speed_raw</th>\n",
       "      <th>wind_speed_turbulence</th>\n",
       "      <th>turbine_id</th>\n",
       "    </tr>\n",
       "  </thead>\n",
       "  <tbody>\n",
       "    <tr>\n",
       "      <th>0</th>\n",
       "      <td>0</td>\n",
       "      <td>4/5/2021 5:36</td>\n",
       "      <td>715.395435</td>\n",
       "      <td>727.824636</td>\n",
       "      <td>16.424948</td>\n",
       "      <td>NaN</td>\n",
       "      <td>57.012666</td>\n",
       "      <td>705.473653</td>\n",
       "      <td>32.653601</td>\n",
       "      <td>29.903539</td>\n",
       "      <td>114.583717</td>\n",
       "      <td>151.190527</td>\n",
       "      <td>220.806147</td>\n",
       "      <td>7.178372</td>\n",
       "      <td>0.518546</td>\n",
       "      <td>Turbine_123</td>\n",
       "    </tr>\n",
       "    <tr>\n",
       "      <th>1</th>\n",
       "      <td>1</td>\n",
       "      <td>1/22/2021 18:08</td>\n",
       "      <td>464.797602</td>\n",
       "      <td>477.312037</td>\n",
       "      <td>16.800411</td>\n",
       "      <td>966.249512</td>\n",
       "      <td>42.624767</td>\n",
       "      <td>112.306211</td>\n",
       "      <td>36.228663</td>\n",
       "      <td>33.264307</td>\n",
       "      <td>96.622513</td>\n",
       "      <td>118.003382</td>\n",
       "      <td>262.500356</td>\n",
       "      <td>6.120114</td>\n",
       "      <td>0.655806</td>\n",
       "      <td>Turbine_19</td>\n",
       "    </tr>\n",
       "    <tr>\n",
       "      <th>2</th>\n",
       "      <td>2</td>\n",
       "      <td>2/12/2021 23:35</td>\n",
       "      <td>124.409334</td>\n",
       "      <td>116.650399</td>\n",
       "      <td>13.072779</td>\n",
       "      <td>NaN</td>\n",
       "      <td>60.494156</td>\n",
       "      <td>160.127332</td>\n",
       "      <td>33.011556</td>\n",
       "      <td>32.325333</td>\n",
       "      <td>83.454244</td>\n",
       "      <td>98.143848</td>\n",
       "      <td>34.148368</td>\n",
       "      <td>3.910857</td>\n",
       "      <td>0.253755</td>\n",
       "      <td>Turbine_18</td>\n",
       "    </tr>\n",
       "    <tr>\n",
       "      <th>3</th>\n",
       "      <td>3</td>\n",
       "      <td>4/20/2021 15:34</td>\n",
       "      <td>328.236440</td>\n",
       "      <td>325.810171</td>\n",
       "      <td>36.818389</td>\n",
       "      <td>854.034149</td>\n",
       "      <td>60.434220</td>\n",
       "      <td>199.202449</td>\n",
       "      <td>36.335106</td>\n",
       "      <td>34.576919</td>\n",
       "      <td>94.008233</td>\n",
       "      <td>105.963958</td>\n",
       "      <td>275.710378</td>\n",
       "      <td>5.411589</td>\n",
       "      <td>0.976659</td>\n",
       "      <td>Turbine_97</td>\n",
       "    </tr>\n",
       "    <tr>\n",
       "      <th>4</th>\n",
       "      <td>4</td>\n",
       "      <td>10/27/2021 2:19</td>\n",
       "      <td>436.704926</td>\n",
       "      <td>435.343811</td>\n",
       "      <td>27.606645</td>\n",
       "      <td>938.269928</td>\n",
       "      <td>55.116486</td>\n",
       "      <td>408.465846</td>\n",
       "      <td>33.643038</td>\n",
       "      <td>32.837904</td>\n",
       "      <td>99.589046</td>\n",
       "      <td>113.876025</td>\n",
       "      <td>62.810726</td>\n",
       "      <td>6.096257</td>\n",
       "      <td>0.374731</td>\n",
       "      <td>Turbine_120</td>\n",
       "    </tr>\n",
       "  </tbody>\n",
       "</table>\n",
       "</div>"
      ],
      "text/plain": [
       "   id        timestamp  active_power_calculated_by_converter  \\\n",
       "0   0    4/5/2021 5:36                            715.395435   \n",
       "1   1  1/22/2021 18:08                            464.797602   \n",
       "2   2  2/12/2021 23:35                            124.409334   \n",
       "3   3  4/20/2021 15:34                            328.236440   \n",
       "4   4  10/27/2021 2:19                            436.704926   \n",
       "\n",
       "   active_power_raw  ambient_temperature  generator_speed  \\\n",
       "0        727.824636            16.424948              NaN   \n",
       "1        477.312037            16.800411       966.249512   \n",
       "2        116.650399            13.072779              NaN   \n",
       "3        325.810171            36.818389       854.034149   \n",
       "4        435.343811            27.606645       938.269928   \n",
       "\n",
       "   generator_winding_temp_max  grid_power10min_average  nc1_inside_temp  \\\n",
       "0                   57.012666               705.473653        32.653601   \n",
       "1                   42.624767               112.306211        36.228663   \n",
       "2                   60.494156               160.127332        33.011556   \n",
       "3                   60.434220               199.202449        36.335106   \n",
       "4                   55.116486               408.465846        33.643038   \n",
       "\n",
       "   nacelle_temp  reactice_power_calculated_by_converter  reactive_power  \\\n",
       "0     29.903539                              114.583717      151.190527   \n",
       "1     33.264307                               96.622513      118.003382   \n",
       "2     32.325333                               83.454244       98.143848   \n",
       "3     34.576919                               94.008233      105.963958   \n",
       "4     32.837904                               99.589046      113.876025   \n",
       "\n",
       "   wind_direction_raw  wind_speed_raw  wind_speed_turbulence   turbine_id  \n",
       "0          220.806147        7.178372               0.518546  Turbine_123  \n",
       "1          262.500356        6.120114               0.655806   Turbine_19  \n",
       "2           34.148368        3.910857               0.253755   Turbine_18  \n",
       "3          275.710378        5.411589               0.976659   Turbine_97  \n",
       "4           62.810726        6.096257               0.374731  Turbine_120  "
      ]
     },
     "execution_count": 4,
     "metadata": {},
     "output_type": "execute_result"
    }
   ],
   "source": [
    "test_df.head()"
   ]
  },
  {
   "cell_type": "code",
   "execution_count": 5,
   "id": "835c3e1d",
   "metadata": {},
   "outputs": [
    {
     "data": {
      "text/plain": [
       "Index(['id', 'timestamp', 'active_power_calculated_by_converter',\n",
       "       'active_power_raw', 'ambient_temperature', 'generator_speed',\n",
       "       'generator_winding_temp_max', 'grid_power10min_average',\n",
       "       'nc1_inside_temp', 'nacelle_temp',\n",
       "       'reactice_power_calculated_by_converter', 'reactive_power',\n",
       "       'wind_direction_raw', 'wind_speed_raw', 'wind_speed_turbulence',\n",
       "       'turbine_id', 'Target'],\n",
       "      dtype='object')"
      ]
     },
     "execution_count": 5,
     "metadata": {},
     "output_type": "execute_result"
    }
   ],
   "source": [
    "df.columns"
   ]
  },
  {
   "cell_type": "code",
   "execution_count": 6,
   "id": "5456b521",
   "metadata": {},
   "outputs": [
    {
     "data": {
      "text/plain": [
       "(591239, 17)"
      ]
     },
     "execution_count": 6,
     "metadata": {},
     "output_type": "execute_result"
    }
   ],
   "source": [
    "df.shape"
   ]
  },
  {
   "cell_type": "code",
   "execution_count": 7,
   "id": "3bbb929a",
   "metadata": {},
   "outputs": [
    {
     "data": {
      "text/plain": [
       "generator_speed                           316836\n",
       "ambient_temperature                         9797\n",
       "nc1_inside_temp                              232\n",
       "nacelle_temp                                 218\n",
       "grid_power10min_average                       35\n",
       "active_power_raw                              17\n",
       "wind_speed_turbulence                         15\n",
       "active_power_calculated_by_converter          10\n",
       "wind_direction_raw                             7\n",
       "reactice_power_calculated_by_converter         4\n",
       "turbine_id                                     4\n",
       "reactive_power                                 2\n",
       "generator_winding_temp_max                     1\n",
       "wind_speed_raw                                 1\n",
       "dtype: int64"
      ]
     },
     "execution_count": 7,
     "metadata": {},
     "output_type": "execute_result"
    }
   ],
   "source": [
    "missing = df.isnull().sum()\n",
    "missing = missing[missing > 0]\n",
    "missing = missing.sort_values(ascending = False)\n",
    "missing"
   ]
  },
  {
   "cell_type": "code",
   "execution_count": 8,
   "id": "ea3314ba",
   "metadata": {},
   "outputs": [],
   "source": [
    "#filling the missing values \n",
    "df[\"turbine_id\"].fillna(df[\"turbine_id\"].mode()[0],inplace = True)\n",
    "df.drop([\"id\",\"generator_speed\"],axis=1,inplace=True)"
   ]
  },
  {
   "cell_type": "code",
   "execution_count": 9,
   "id": "2a34541a",
   "metadata": {},
   "outputs": [
    {
     "data": {
      "text/plain": [
       "0          6/22/2021\n",
       "1          11/6/2021\n",
       "2         12/23/2021\n",
       "3           1/2/2021\n",
       "4          12/6/2021\n",
       "             ...    \n",
       "591234     3/18/2021\n",
       "591235     7/24/2021\n",
       "591236     11/9/2021\n",
       "591237      2/2/2021\n",
       "591238      8/2/2021\n",
       "Name: timestamp, Length: 591239, dtype: object"
      ]
     },
     "execution_count": 9,
     "metadata": {},
     "output_type": "execute_result"
    }
   ],
   "source": [
    "df[\"timestamp\"] = df['timestamp'].str.split(', ', expand=True).stack().reset_index(level=1, drop=True);\n",
    "df['timestamp'] = df['timestamp'].apply(lambda x: x.split(\" \")[0]) \n",
    "df['timestamp']"
   ]
  },
  {
   "cell_type": "code",
   "execution_count": 10,
   "id": "c33360b5",
   "metadata": {},
   "outputs": [],
   "source": [
    "df['timestamp'] = pd.to_datetime(df['timestamp'])\n",
    "df[\"Month\"]=df[\"timestamp\"].dt.month\n",
    "df[\"quarter\"]=df[\"timestamp\"].dt.quarter\n",
    "df.drop([\"timestamp\"],axis=1,inplace=True)"
   ]
  },
  {
   "cell_type": "code",
   "execution_count": 11,
   "id": "8c022040",
   "metadata": {},
   "outputs": [
    {
     "data": {
      "text/plain": [
       "ambient_temperature                       1.66\n",
       "nc1_inside_temp                           0.04\n",
       "nacelle_temp                              0.04\n",
       "grid_power10min_average                   0.01\n",
       "active_power_calculated_by_converter      0.00\n",
       "active_power_raw                          0.00\n",
       "generator_winding_temp_max                0.00\n",
       "reactice_power_calculated_by_converter    0.00\n",
       "reactive_power                            0.00\n",
       "wind_direction_raw                        0.00\n",
       "wind_speed_raw                            0.00\n",
       "wind_speed_turbulence                     0.00\n",
       "turbine_id                                0.00\n",
       "Target                                    0.00\n",
       "Month                                     0.00\n",
       "quarter                                   0.00\n",
       "dtype: float64"
      ]
     },
     "execution_count": 11,
     "metadata": {},
     "output_type": "execute_result"
    }
   ],
   "source": [
    "np.round(df.isnull().sum()*100.00/len(df),2).sort_values(ascending = False)\n"
   ]
  },
  {
   "cell_type": "code",
   "execution_count": 12,
   "id": "5a4c7ee7",
   "metadata": {},
   "outputs": [
    {
     "name": "stdout",
     "output_type": "stream",
     "text": [
      "<class 'pandas.core.frame.DataFrame'>\n",
      "RangeIndex: 591239 entries, 0 to 591238\n",
      "Data columns (total 16 columns):\n",
      " #   Column                                  Non-Null Count   Dtype  \n",
      "---  ------                                  --------------   -----  \n",
      " 0   active_power_calculated_by_converter    591229 non-null  float64\n",
      " 1   active_power_raw                        591222 non-null  float64\n",
      " 2   ambient_temperature                     581442 non-null  float64\n",
      " 3   generator_winding_temp_max              591238 non-null  float64\n",
      " 4   grid_power10min_average                 591204 non-null  float64\n",
      " 5   nc1_inside_temp                         591007 non-null  float64\n",
      " 6   nacelle_temp                            591021 non-null  float64\n",
      " 7   reactice_power_calculated_by_converter  591235 non-null  float64\n",
      " 8   reactive_power                          591237 non-null  float64\n",
      " 9   wind_direction_raw                      591232 non-null  float64\n",
      " 10  wind_speed_raw                          591238 non-null  float64\n",
      " 11  wind_speed_turbulence                   591224 non-null  float64\n",
      " 12  turbine_id                              591239 non-null  object \n",
      " 13  Target                                  591239 non-null  float64\n",
      " 14  Month                                   591239 non-null  int64  \n",
      " 15  quarter                                 591239 non-null  int64  \n",
      "dtypes: float64(13), int64(2), object(1)\n",
      "memory usage: 72.2+ MB\n"
     ]
    }
   ],
   "source": [
    "df.info()"
   ]
  },
  {
   "cell_type": "code",
   "execution_count": 13,
   "id": "f9676717",
   "metadata": {},
   "outputs": [
    {
     "data": {
      "text/plain": [
       "array([48.67090607, 47.77903175, 45.54294586, ..., 49.31467438,\n",
       "       51.65279198, 45.78885269])"
      ]
     },
     "execution_count": 13,
     "metadata": {},
     "output_type": "execute_result"
    }
   ],
   "source": [
    "df[\"Target\"].unique()"
   ]
  },
  {
   "cell_type": "code",
   "execution_count": 14,
   "id": "91092cb1",
   "metadata": {},
   "outputs": [
    {
     "data": {
      "text/plain": [
       "<AxesSubplot:>"
      ]
     },
     "execution_count": 14,
     "metadata": {},
     "output_type": "execute_result"
    },
    {
     "data": {
      "image/png": "[encoded data removed]",
      "text/plain": [
       "<Figure size 1080x1080 with 2 Axes>"
      ]
     },
     "metadata": {
      "needs_background": "light"
     },
     "output_type": "display_data"
    }
   ],
   "source": [
    "plt.figure(figsize=(15, 15))\n",
    "corr_mask = np.triu(df.corr())\n",
    "h_map = sns.heatmap(df.corr(), mask=corr_mask, cmap='Blues',annot=True)\n",
    "h_map"
   ]
  },
  {
   "cell_type": "code",
   "execution_count": 15,
   "id": "10582560",
   "metadata": {},
   "outputs": [
    {
     "data": {
      "image/png": "[encoded data removed]",
      "text/plain": [
       "<Figure size 1008x1008 with 25 Axes>"
      ]
     },
     "metadata": {
      "needs_background": "light"
     },
     "output_type": "display_data"
    }
   ],
   "source": [
    "numeric_data=df.select_dtypes(exclude=[\"category\"])\n",
    "numeric_data.plot(subplots =True, kind = 'box', layout = (5,5), figsize = (14,14),patch_artist=True)\n",
    "plt.subplots_adjust(wspace = 0.5)"
   ]
  },
  {
   "cell_type": "code",
   "execution_count": 16,
   "id": "c1eeec32",
   "metadata": {},
   "outputs": [
    {
     "data": {
      "text/plain": [
       "ambient_temperature                       9797\n",
       "nc1_inside_temp                            232\n",
       "nacelle_temp                               218\n",
       "grid_power10min_average                     35\n",
       "active_power_raw                            17\n",
       "wind_speed_turbulence                       15\n",
       "active_power_calculated_by_converter        10\n",
       "wind_direction_raw                           7\n",
       "reactice_power_calculated_by_converter       4\n",
       "reactive_power                               2\n",
       "generator_winding_temp_max                   1\n",
       "wind_speed_raw                               1\n",
       "dtype: int64"
      ]
     },
     "execution_count": 16,
     "metadata": {},
     "output_type": "execute_result"
    }
   ],
   "source": [
    "import numpy as np\n",
    "missing = df.isnull().sum()\n",
    "missing = missing[missing > 0]\n",
    "missing = missing.sort_values(ascending = False)\n",
    "missing"
   ]
  },
  {
   "cell_type": "code",
   "execution_count": 17,
   "id": "e8a6309a",
   "metadata": {},
   "outputs": [],
   "source": [
    "\n",
    "columns=[\"ambient_temperature\",\"reactive_power\",\"active_power_raw\",\"wind_speed_raw\",\"generator_winding_temp_max\",\"active_power_calculated_by_converter\",\"reactice_power_calculated_by_converter\",\n",
    "         \"wind_direction_raw\",\"wind_speed_turbulence\",\"grid_power10min_average\",\"nacelle_temp\",\"nc1_inside_temp\",\"ambient_temperature\"]\n",
    "for n in columns:\n",
    "    data = df[n][~df[n].isna()]\n",
    "    df[n] = df[n].fillna(np.percentile(data,50))\n",
    "    "
   ]
  },
  {
   "cell_type": "code",
   "execution_count": 18,
   "id": "0f06d7d9",
   "metadata": {},
   "outputs": [
    {
     "data": {
      "text/plain": [
       "active_power_calculated_by_converter      0\n",
       "active_power_raw                          0\n",
       "ambient_temperature                       0\n",
       "generator_winding_temp_max                0\n",
       "grid_power10min_average                   0\n",
       "nc1_inside_temp                           0\n",
       "nacelle_temp                              0\n",
       "reactice_power_calculated_by_converter    0\n",
       "reactive_power                            0\n",
       "wind_direction_raw                        0\n",
       "wind_speed_raw                            0\n",
       "wind_speed_turbulence                     0\n",
       "turbine_id                                0\n",
       "Target                                    0\n",
       "Month                                     0\n",
       "quarter                                   0\n",
       "dtype: int64"
      ]
     },
     "execution_count": 18,
     "metadata": {},
     "output_type": "execute_result"
    }
   ],
   "source": [
    "missing = df.isnull().sum()\n",
    "missing"
   ]
  },
  {
   "cell_type": "code",
   "execution_count": 19,
   "id": "ee4977fb",
   "metadata": {},
   "outputs": [
    {
     "data": {
      "text/plain": [
       "array(['Turbine_01', 'Turbine_97', 'Turbine_158', 'Turbine_20',\n",
       "       'Turbine_120', 'Turbine_14', 'Turbine_15', 'Turbine_105',\n",
       "       'Turbine_139', 'Turbine_19', 'Turbine_108', 'Turbine_10',\n",
       "       'Turbine_18', 'Turbine_13', 'Turbine_103', 'Turbine_123'],\n",
       "      dtype=object)"
      ]
     },
     "execution_count": 19,
     "metadata": {},
     "output_type": "execute_result"
    }
   ],
   "source": [
    "df[\"turbine_id\"].unique()"
   ]
  },
  {
   "cell_type": "code",
   "execution_count": 20,
   "id": "82318079",
   "metadata": {},
   "outputs": [
    {
     "data": {
      "text/plain": [
       "(591239, 16)"
      ]
     },
     "execution_count": 20,
     "metadata": {},
     "output_type": "execute_result"
    }
   ],
   "source": [
    "df.shape"
   ]
  },
  {
   "cell_type": "code",
   "execution_count": 21,
   "id": "63dea05a",
   "metadata": {},
   "outputs": [],
   "source": [
    "le = LabelEncoder()\n",
    "df['turbine_id']=le.fit_transform(df['turbine_id'])"
   ]
  },
  {
   "cell_type": "code",
   "execution_count": 22,
   "id": "cbb67dfe",
   "metadata": {},
   "outputs": [
    {
     "data": {
      "text/plain": [
       "Index(['active_power_calculated_by_converter', 'active_power_raw',\n",
       "       'ambient_temperature', 'generator_winding_temp_max',\n",
       "       'grid_power10min_average', 'nc1_inside_temp', 'nacelle_temp',\n",
       "       'reactice_power_calculated_by_converter', 'reactive_power',\n",
       "       'wind_direction_raw', 'wind_speed_raw', 'wind_speed_turbulence',\n",
       "       'turbine_id', 'Target', 'Month', 'quarter'],\n",
       "      dtype='object')"
      ]
     },
     "execution_count": 22,
     "metadata": {},
     "output_type": "execute_result"
    }
   ],
   "source": [
    "df.columns"
   ]
  },
  {
   "cell_type": "code",
   "execution_count": 23,
   "id": "1348b0d2",
   "metadata": {},
   "outputs": [
    {
     "data": {
      "text/plain": [
       "active_power_calculated_by_converter      float64\n",
       "active_power_raw                          float64\n",
       "ambient_temperature                       float64\n",
       "generator_winding_temp_max                float64\n",
       "grid_power10min_average                   float64\n",
       "nc1_inside_temp                           float64\n",
       "nacelle_temp                              float64\n",
       "reactice_power_calculated_by_converter    float64\n",
       "reactive_power                            float64\n",
       "wind_direction_raw                        float64\n",
       "wind_speed_raw                            float64\n",
       "wind_speed_turbulence                     float64\n",
       "turbine_id                                  int32\n",
       "Target                                    float64\n",
       "Month                                       int64\n",
       "quarter                                     int64\n",
       "dtype: object"
      ]
     },
     "execution_count": 23,
     "metadata": {},
     "output_type": "execute_result"
    }
   ],
   "source": [
    "df.dtypes"
   ]
  },
  {
   "cell_type": "code",
   "execution_count": null,
   "id": "8fe8d622",
   "metadata": {},
   "outputs": [],
   "source": []
  },
  {
   "cell_type": "code",
   "execution_count": 24,
   "id": "7ed4401b",
   "metadata": {},
   "outputs": [],
   "source": [
    "x = df.drop(columns=\"Target\")           \n",
    "y = df[\"Target\"]   "
   ]
  },
  {
   "cell_type": "code",
   "execution_count": 25,
   "id": "2d068806",
   "metadata": {},
   "outputs": [],
   "source": [
    "from sklearn.decomposition import PCA\n",
    "from sklearn.preprocessing import StandardScaler\n",
    "from sklearn.feature_selection import RFECV\n",
    "from sklearn.model_selection import GridSearchCV"
   ]
  },
  {
   "cell_type": "code",
   "execution_count": 26,
   "id": "8ff4964f",
   "metadata": {},
   "outputs": [],
   "source": [
    "# Scale data before applying PCA\n",
    "scaling=StandardScaler()\n",
    " \n",
    "# Use fit and transform method\n",
    "scaling.fit(x)\n",
    "Scaled_data=scaling.transform(x)\n",
    " \n",
    "# Set the n_components=3\n",
    "# principal=PCA(n_components=3)\n",
    "#principal.fit(Scaled_data)\n",
    "#x=principal.transform(Scaled_data)\n",
    " \n",
    "# Check the dimensions of data after PCA\n",
    "#print(x.shape)"
   ]
  },
  {
   "cell_type": "code",
   "execution_count": 27,
   "id": "b819b33b",
   "metadata": {},
   "outputs": [],
   "source": [
    "#from mpl_toolkits.mplot3d import Axes3D\n",
    "#fig = plt.figure(figsize=(10,10))\n",
    " \n",
    "# choose projection 3d for creating a 3d graph\n",
    "#axis = fig.add_subplot(111, projection='3d')\n",
    " \n",
    "# x[:,0]is pc1,x[:,1] is pc2 while x[:,2] is pc3\n",
    "#axis.scatter(x[:,0],x[:,1],x[:,2], c=df['Target'],cmap='plasma')\n",
    "#axis.set_xlabel(\"PC1\", fontsize=10)\n",
    "#axis.set_ylabel(\"PC2\", fontsize=10)\n",
    "#axis.set_zlabel(\"PC3\", fontsize=10)"
   ]
  },
  {
   "cell_type": "code",
   "execution_count": 28,
   "id": "4780f4da",
   "metadata": {},
   "outputs": [],
   "source": [
    "from sklearn.model_selection import train_test_split\n",
    "x_train, x_test, y_train, y_test = train_test_split(x,y, test_size=0.2)"
   ]
  },
  {
   "cell_type": "code",
   "execution_count": 29,
   "id": "eb73ed90",
   "metadata": {},
   "outputs": [
    {
     "data": {
      "text/html": [
       "<div>\n",
       "<style scoped>\n",
       "    .dataframe tbody tr th:only-of-type {\n",
       "        vertical-align: middle;\n",
       "    }\n",
       "\n",
       "    .dataframe tbody tr th {\n",
       "        vertical-align: top;\n",
       "    }\n",
       "\n",
       "    .dataframe thead th {\n",
       "        text-align: right;\n",
       "    }\n",
       "</style>\n",
       "<table border=\"1\" class=\"dataframe\">\n",
       "  <thead>\n",
       "    <tr style=\"text-align: right;\">\n",
       "      <th></th>\n",
       "      <th>active_power_calculated_by_converter</th>\n",
       "      <th>active_power_raw</th>\n",
       "      <th>ambient_temperature</th>\n",
       "      <th>generator_winding_temp_max</th>\n",
       "      <th>grid_power10min_average</th>\n",
       "      <th>nc1_inside_temp</th>\n",
       "      <th>nacelle_temp</th>\n",
       "      <th>reactice_power_calculated_by_converter</th>\n",
       "      <th>reactive_power</th>\n",
       "      <th>wind_direction_raw</th>\n",
       "      <th>wind_speed_raw</th>\n",
       "      <th>wind_speed_turbulence</th>\n",
       "      <th>turbine_id</th>\n",
       "      <th>Month</th>\n",
       "      <th>quarter</th>\n",
       "    </tr>\n",
       "  </thead>\n",
       "  <tbody>\n",
       "    <tr>\n",
       "      <th>322241</th>\n",
       "      <td>404.556280</td>\n",
       "      <td>407.059372</td>\n",
       "      <td>26.477380</td>\n",
       "      <td>48.863509</td>\n",
       "      <td>420.344701</td>\n",
       "      <td>27.085473</td>\n",
       "      <td>26.253757</td>\n",
       "      <td>95.645568</td>\n",
       "      <td>113.299006</td>\n",
       "      <td>166.947662</td>\n",
       "      <td>6.113520</td>\n",
       "      <td>0.718299</td>\n",
       "      <td>4</td>\n",
       "      <td>1</td>\n",
       "      <td>1</td>\n",
       "    </tr>\n",
       "    <tr>\n",
       "      <th>168439</th>\n",
       "      <td>386.518519</td>\n",
       "      <td>388.533869</td>\n",
       "      <td>26.515632</td>\n",
       "      <td>59.996235</td>\n",
       "      <td>534.579702</td>\n",
       "      <td>31.262960</td>\n",
       "      <td>31.678853</td>\n",
       "      <td>90.048086</td>\n",
       "      <td>109.780289</td>\n",
       "      <td>278.644964</td>\n",
       "      <td>5.418126</td>\n",
       "      <td>0.694631</td>\n",
       "      <td>5</td>\n",
       "      <td>6</td>\n",
       "      <td>2</td>\n",
       "    </tr>\n",
       "    <tr>\n",
       "      <th>147842</th>\n",
       "      <td>367.167460</td>\n",
       "      <td>369.922190</td>\n",
       "      <td>33.259754</td>\n",
       "      <td>53.365454</td>\n",
       "      <td>323.492920</td>\n",
       "      <td>33.113354</td>\n",
       "      <td>30.024523</td>\n",
       "      <td>89.783609</td>\n",
       "      <td>110.511340</td>\n",
       "      <td>99.482292</td>\n",
       "      <td>5.919088</td>\n",
       "      <td>0.345476</td>\n",
       "      <td>1</td>\n",
       "      <td>1</td>\n",
       "      <td>1</td>\n",
       "    </tr>\n",
       "    <tr>\n",
       "      <th>57212</th>\n",
       "      <td>229.753916</td>\n",
       "      <td>227.041946</td>\n",
       "      <td>29.287523</td>\n",
       "      <td>63.054876</td>\n",
       "      <td>323.379486</td>\n",
       "      <td>33.154332</td>\n",
       "      <td>33.746066</td>\n",
       "      <td>85.492687</td>\n",
       "      <td>100.611078</td>\n",
       "      <td>7.146525</td>\n",
       "      <td>4.761572</td>\n",
       "      <td>0.478209</td>\n",
       "      <td>8</td>\n",
       "      <td>10</td>\n",
       "      <td>4</td>\n",
       "    </tr>\n",
       "    <tr>\n",
       "      <th>39871</th>\n",
       "      <td>333.314580</td>\n",
       "      <td>328.750956</td>\n",
       "      <td>32.200395</td>\n",
       "      <td>56.631674</td>\n",
       "      <td>260.565821</td>\n",
       "      <td>31.728833</td>\n",
       "      <td>30.689221</td>\n",
       "      <td>89.314654</td>\n",
       "      <td>107.777487</td>\n",
       "      <td>245.877820</td>\n",
       "      <td>5.380675</td>\n",
       "      <td>0.364526</td>\n",
       "      <td>15</td>\n",
       "      <td>10</td>\n",
       "      <td>4</td>\n",
       "    </tr>\n",
       "    <tr>\n",
       "      <th>...</th>\n",
       "      <td>...</td>\n",
       "      <td>...</td>\n",
       "      <td>...</td>\n",
       "      <td>...</td>\n",
       "      <td>...</td>\n",
       "      <td>...</td>\n",
       "      <td>...</td>\n",
       "      <td>...</td>\n",
       "      <td>...</td>\n",
       "      <td>...</td>\n",
       "      <td>...</td>\n",
       "      <td>...</td>\n",
       "      <td>...</td>\n",
       "      <td>...</td>\n",
       "      <td>...</td>\n",
       "    </tr>\n",
       "    <tr>\n",
       "      <th>72418</th>\n",
       "      <td>377.881556</td>\n",
       "      <td>378.366938</td>\n",
       "      <td>32.517492</td>\n",
       "      <td>65.424451</td>\n",
       "      <td>346.705109</td>\n",
       "      <td>32.137741</td>\n",
       "      <td>32.961913</td>\n",
       "      <td>85.314135</td>\n",
       "      <td>113.201262</td>\n",
       "      <td>278.571543</td>\n",
       "      <td>6.081200</td>\n",
       "      <td>0.583163</td>\n",
       "      <td>11</td>\n",
       "      <td>6</td>\n",
       "      <td>2</td>\n",
       "    </tr>\n",
       "    <tr>\n",
       "      <th>166497</th>\n",
       "      <td>1209.390889</td>\n",
       "      <td>1233.805806</td>\n",
       "      <td>23.336030</td>\n",
       "      <td>64.736433</td>\n",
       "      <td>1309.080627</td>\n",
       "      <td>32.080911</td>\n",
       "      <td>28.873732</td>\n",
       "      <td>197.087318</td>\n",
       "      <td>240.424360</td>\n",
       "      <td>14.913750</td>\n",
       "      <td>8.416377</td>\n",
       "      <td>0.598601</td>\n",
       "      <td>5</td>\n",
       "      <td>12</td>\n",
       "      <td>4</td>\n",
       "    </tr>\n",
       "    <tr>\n",
       "      <th>193452</th>\n",
       "      <td>1254.665243</td>\n",
       "      <td>1280.460388</td>\n",
       "      <td>27.287820</td>\n",
       "      <td>75.758000</td>\n",
       "      <td>1479.260559</td>\n",
       "      <td>32.247172</td>\n",
       "      <td>30.969979</td>\n",
       "      <td>212.283417</td>\n",
       "      <td>255.187993</td>\n",
       "      <td>105.244554</td>\n",
       "      <td>8.618227</td>\n",
       "      <td>0.932754</td>\n",
       "      <td>7</td>\n",
       "      <td>3</td>\n",
       "      <td>1</td>\n",
       "    </tr>\n",
       "    <tr>\n",
       "      <th>385663</th>\n",
       "      <td>865.374603</td>\n",
       "      <td>879.883677</td>\n",
       "      <td>29.654424</td>\n",
       "      <td>69.966075</td>\n",
       "      <td>527.328267</td>\n",
       "      <td>29.413256</td>\n",
       "      <td>31.699823</td>\n",
       "      <td>144.131063</td>\n",
       "      <td>177.035154</td>\n",
       "      <td>255.781303</td>\n",
       "      <td>6.947540</td>\n",
       "      <td>0.911809</td>\n",
       "      <td>7</td>\n",
       "      <td>6</td>\n",
       "      <td>2</td>\n",
       "    </tr>\n",
       "    <tr>\n",
       "      <th>60709</th>\n",
       "      <td>85.441129</td>\n",
       "      <td>73.117223</td>\n",
       "      <td>12.529195</td>\n",
       "      <td>60.693569</td>\n",
       "      <td>107.148148</td>\n",
       "      <td>24.108723</td>\n",
       "      <td>27.206885</td>\n",
       "      <td>88.077485</td>\n",
       "      <td>97.048491</td>\n",
       "      <td>253.984467</td>\n",
       "      <td>4.232533</td>\n",
       "      <td>0.234709</td>\n",
       "      <td>3</td>\n",
       "      <td>10</td>\n",
       "      <td>4</td>\n",
       "    </tr>\n",
       "  </tbody>\n",
       "</table>\n",
       "<p>472991 rows × 15 columns</p>\n",
       "</div>"
      ],
      "text/plain": [
       "        active_power_calculated_by_converter  active_power_raw  \\\n",
       "322241                            404.556280        407.059372   \n",
       "168439                            386.518519        388.533869   \n",
       "147842                            367.167460        369.922190   \n",
       "57212                             229.753916        227.041946   \n",
       "39871                             333.314580        328.750956   \n",
       "...                                      ...               ...   \n",
       "72418                             377.881556        378.366938   \n",
       "166497                           1209.390889       1233.805806   \n",
       "193452                           1254.665243       1280.460388   \n",
       "385663                            865.374603        879.883677   \n",
       "60709                              85.441129         73.117223   \n",
       "\n",
       "        ambient_temperature  generator_winding_temp_max  \\\n",
       "322241            26.477380                   48.863509   \n",
       "168439            26.515632                   59.996235   \n",
       "147842            33.259754                   53.365454   \n",
       "57212             29.287523                   63.054876   \n",
       "39871             32.200395                   56.631674   \n",
       "...                     ...                         ...   \n",
       "72418             32.517492                   65.424451   \n",
       "166497            23.336030                   64.736433   \n",
       "193452            27.287820                   75.758000   \n",
       "385663            29.654424                   69.966075   \n",
       "60709             12.529195                   60.693569   \n",
       "\n",
       "        grid_power10min_average  nc1_inside_temp  nacelle_temp  \\\n",
       "322241               420.344701        27.085473     26.253757   \n",
       "168439               534.579702        31.262960     31.678853   \n",
       "147842               323.492920        33.113354     30.024523   \n",
       "57212                323.379486        33.154332     33.746066   \n",
       "39871                260.565821        31.728833     30.689221   \n",
       "...                         ...              ...           ...   \n",
       "72418                346.705109        32.137741     32.961913   \n",
       "166497              1309.080627        32.080911     28.873732   \n",
       "193452              1479.260559        32.247172     30.969979   \n",
       "385663               527.328267        29.413256     31.699823   \n",
       "60709                107.148148        24.108723     27.206885   \n",
       "\n",
       "        reactice_power_calculated_by_converter  reactive_power  \\\n",
       "322241                               95.645568      113.299006   \n",
       "168439                               90.048086      109.780289   \n",
       "147842                               89.783609      110.511340   \n",
       "57212                                85.492687      100.611078   \n",
       "39871                                89.314654      107.777487   \n",
       "...                                        ...             ...   \n",
       "72418                                85.314135      113.201262   \n",
       "166497                              197.087318      240.424360   \n",
       "193452                              212.283417      255.187993   \n",
       "385663                              144.131063      177.035154   \n",
       "60709                                88.077485       97.048491   \n",
       "\n",
       "        wind_direction_raw  wind_speed_raw  wind_speed_turbulence  turbine_id  \\\n",
       "322241          166.947662        6.113520               0.718299           4   \n",
       "168439          278.644964        5.418126               0.694631           5   \n",
       "147842           99.482292        5.919088               0.345476           1   \n",
       "57212             7.146525        4.761572               0.478209           8   \n",
       "39871           245.877820        5.380675               0.364526          15   \n",
       "...                    ...             ...                    ...         ...   \n",
       "72418           278.571543        6.081200               0.583163          11   \n",
       "166497           14.913750        8.416377               0.598601           5   \n",
       "193452          105.244554        8.618227               0.932754           7   \n",
       "385663          255.781303        6.947540               0.911809           7   \n",
       "60709           253.984467        4.232533               0.234709           3   \n",
       "\n",
       "        Month  quarter  \n",
       "322241      1        1  \n",
       "168439      6        2  \n",
       "147842      1        1  \n",
       "57212      10        4  \n",
       "39871      10        4  \n",
       "...       ...      ...  \n",
       "72418       6        2  \n",
       "166497     12        4  \n",
       "193452      3        1  \n",
       "385663      6        2  \n",
       "60709      10        4  \n",
       "\n",
       "[472991 rows x 15 columns]"
      ]
     },
     "execution_count": 29,
     "metadata": {},
     "output_type": "execute_result"
    }
   ],
   "source": [
    "x_train"
   ]
  },
  {
   "cell_type": "code",
   "execution_count": 30,
   "id": "2544d704",
   "metadata": {},
   "outputs": [],
   "source": [
    "from sklearn.model_selection import KFold\n",
    "from sklearn.model_selection import cross_val_score\n",
    "from sklearn.pipeline import Pipeline\n",
    "from sklearn.pipeline import FeatureUnion\n",
    "from sklearn.linear_model import LogisticRegression\n",
    "from sklearn.decomposition import PCA\n",
    "from sklearn.feature_selection import SelectKBest, chi2, f_regression\n",
    "from sklearn.discriminant_analysis import LinearDiscriminantAnalysis"
   ]
  },
  {
   "cell_type": "code",
   "execution_count": 31,
   "id": "4abdd3d1",
   "metadata": {},
   "outputs": [],
   "source": [
    "#LinearRegressionModel(x_train,x_test,y_train,y_test)"
   ]
  },
  {
   "cell_type": "code",
   "execution_count": 32,
   "id": "945e78ce",
   "metadata": {},
   "outputs": [
    {
     "data": {
      "text/html": [
       "<div>\n",
       "<style scoped>\n",
       "    .dataframe tbody tr th:only-of-type {\n",
       "        vertical-align: middle;\n",
       "    }\n",
       "\n",
       "    .dataframe tbody tr th {\n",
       "        vertical-align: top;\n",
       "    }\n",
       "\n",
       "    .dataframe thead th {\n",
       "        text-align: right;\n",
       "    }\n",
       "</style>\n",
       "<table border=\"1\" class=\"dataframe\">\n",
       "  <thead>\n",
       "    <tr style=\"text-align: right;\">\n",
       "      <th></th>\n",
       "      <th>active_power_calculated_by_converter</th>\n",
       "      <th>active_power_raw</th>\n",
       "      <th>ambient_temperature</th>\n",
       "      <th>generator_winding_temp_max</th>\n",
       "      <th>grid_power10min_average</th>\n",
       "      <th>nc1_inside_temp</th>\n",
       "      <th>nacelle_temp</th>\n",
       "      <th>reactice_power_calculated_by_converter</th>\n",
       "      <th>reactive_power</th>\n",
       "      <th>wind_direction_raw</th>\n",
       "      <th>wind_speed_raw</th>\n",
       "      <th>wind_speed_turbulence</th>\n",
       "      <th>turbine_id</th>\n",
       "      <th>Target</th>\n",
       "      <th>Month</th>\n",
       "      <th>quarter</th>\n",
       "    </tr>\n",
       "  </thead>\n",
       "  <tbody>\n",
       "    <tr>\n",
       "      <th>0</th>\n",
       "      <td>59.071225</td>\n",
       "      <td>59.117203</td>\n",
       "      <td>35.765579</td>\n",
       "      <td>64.812227</td>\n",
       "      <td>167.234988</td>\n",
       "      <td>31.835583</td>\n",
       "      <td>35.661191</td>\n",
       "      <td>18.228060</td>\n",
       "      <td>24.117071</td>\n",
       "      <td>316.953893</td>\n",
       "      <td>4.016191</td>\n",
       "      <td>0.524196</td>\n",
       "      <td>0</td>\n",
       "      <td>48.670906</td>\n",
       "      <td>6</td>\n",
       "      <td>2</td>\n",
       "    </tr>\n",
       "    <tr>\n",
       "      <th>1</th>\n",
       "      <td>258.278976</td>\n",
       "      <td>253.123637</td>\n",
       "      <td>33.392501</td>\n",
       "      <td>57.227210</td>\n",
       "      <td>223.845406</td>\n",
       "      <td>32.870656</td>\n",
       "      <td>32.916340</td>\n",
       "      <td>84.444679</td>\n",
       "      <td>102.651681</td>\n",
       "      <td>70.390775</td>\n",
       "      <td>5.198709</td>\n",
       "      <td>0.311840</td>\n",
       "      <td>15</td>\n",
       "      <td>47.779032</td>\n",
       "      <td>11</td>\n",
       "      <td>4</td>\n",
       "    </tr>\n",
       "    <tr>\n",
       "      <th>2</th>\n",
       "      <td>234.884260</td>\n",
       "      <td>236.785260</td>\n",
       "      <td>33.320189</td>\n",
       "      <td>47.570285</td>\n",
       "      <td>182.448718</td>\n",
       "      <td>33.043858</td>\n",
       "      <td>29.726347</td>\n",
       "      <td>19.863061</td>\n",
       "      <td>38.311028</td>\n",
       "      <td>302.287781</td>\n",
       "      <td>5.443600</td>\n",
       "      <td>0.367809</td>\n",
       "      <td>11</td>\n",
       "      <td>45.542946</td>\n",
       "      <td>12</td>\n",
       "      <td>4</td>\n",
       "    </tr>\n",
       "    <tr>\n",
       "      <th>3</th>\n",
       "      <td>50.535151</td>\n",
       "      <td>37.784692</td>\n",
       "      <td>27.923465</td>\n",
       "      <td>33.838225</td>\n",
       "      <td>14.912772</td>\n",
       "      <td>33.752039</td>\n",
       "      <td>30.534683</td>\n",
       "      <td>94.085461</td>\n",
       "      <td>96.431728</td>\n",
       "      <td>93.148946</td>\n",
       "      <td>3.971027</td>\n",
       "      <td>0.631113</td>\n",
       "      <td>14</td>\n",
       "      <td>47.515691</td>\n",
       "      <td>1</td>\n",
       "      <td>1</td>\n",
       "    </tr>\n",
       "    <tr>\n",
       "      <th>4</th>\n",
       "      <td>247.842835</td>\n",
       "      <td>241.342895</td>\n",
       "      <td>32.897556</td>\n",
       "      <td>64.972858</td>\n",
       "      <td>226.304581</td>\n",
       "      <td>32.558620</td>\n",
       "      <td>32.711412</td>\n",
       "      <td>93.393299</td>\n",
       "      <td>103.011902</td>\n",
       "      <td>140.825768</td>\n",
       "      <td>4.746520</td>\n",
       "      <td>0.341984</td>\n",
       "      <td>14</td>\n",
       "      <td>44.625755</td>\n",
       "      <td>12</td>\n",
       "      <td>4</td>\n",
       "    </tr>\n",
       "    <tr>\n",
       "      <th>...</th>\n",
       "      <td>...</td>\n",
       "      <td>...</td>\n",
       "      <td>...</td>\n",
       "      <td>...</td>\n",
       "      <td>...</td>\n",
       "      <td>...</td>\n",
       "      <td>...</td>\n",
       "      <td>...</td>\n",
       "      <td>...</td>\n",
       "      <td>...</td>\n",
       "      <td>...</td>\n",
       "      <td>...</td>\n",
       "      <td>...</td>\n",
       "      <td>...</td>\n",
       "      <td>...</td>\n",
       "      <td>...</td>\n",
       "    </tr>\n",
       "    <tr>\n",
       "      <th>591234</th>\n",
       "      <td>121.264847</td>\n",
       "      <td>108.633915</td>\n",
       "      <td>28.822063</td>\n",
       "      <td>60.426447</td>\n",
       "      <td>78.542900</td>\n",
       "      <td>28.404571</td>\n",
       "      <td>32.300816</td>\n",
       "      <td>87.176760</td>\n",
       "      <td>97.308688</td>\n",
       "      <td>276.542084</td>\n",
       "      <td>3.921454</td>\n",
       "      <td>0.352061</td>\n",
       "      <td>15</td>\n",
       "      <td>49.511423</td>\n",
       "      <td>3</td>\n",
       "      <td>1</td>\n",
       "    </tr>\n",
       "    <tr>\n",
       "      <th>591235</th>\n",
       "      <td>679.381755</td>\n",
       "      <td>699.714915</td>\n",
       "      <td>26.066999</td>\n",
       "      <td>59.386416</td>\n",
       "      <td>609.587229</td>\n",
       "      <td>34.645046</td>\n",
       "      <td>32.662838</td>\n",
       "      <td>49.636947</td>\n",
       "      <td>73.951992</td>\n",
       "      <td>262.125946</td>\n",
       "      <td>6.539214</td>\n",
       "      <td>0.620994</td>\n",
       "      <td>10</td>\n",
       "      <td>46.682127</td>\n",
       "      <td>7</td>\n",
       "      <td>3</td>\n",
       "    </tr>\n",
       "    <tr>\n",
       "      <th>591236</th>\n",
       "      <td>289.928238</td>\n",
       "      <td>285.483582</td>\n",
       "      <td>31.997511</td>\n",
       "      <td>61.138416</td>\n",
       "      <td>517.386113</td>\n",
       "      <td>41.325528</td>\n",
       "      <td>37.321171</td>\n",
       "      <td>85.270166</td>\n",
       "      <td>106.643428</td>\n",
       "      <td>35.269936</td>\n",
       "      <td>4.627115</td>\n",
       "      <td>1.153216</td>\n",
       "      <td>9</td>\n",
       "      <td>49.314674</td>\n",
       "      <td>11</td>\n",
       "      <td>4</td>\n",
       "    </tr>\n",
       "    <tr>\n",
       "      <th>591237</th>\n",
       "      <td>28.318385</td>\n",
       "      <td>12.871501</td>\n",
       "      <td>33.040375</td>\n",
       "      <td>47.513898</td>\n",
       "      <td>8.731869</td>\n",
       "      <td>32.886009</td>\n",
       "      <td>30.212943</td>\n",
       "      <td>92.453150</td>\n",
       "      <td>95.705736</td>\n",
       "      <td>184.148130</td>\n",
       "      <td>3.581920</td>\n",
       "      <td>0.277640</td>\n",
       "      <td>14</td>\n",
       "      <td>51.652792</td>\n",
       "      <td>2</td>\n",
       "      <td>1</td>\n",
       "    </tr>\n",
       "    <tr>\n",
       "      <th>591238</th>\n",
       "      <td>282.908948</td>\n",
       "      <td>283.232198</td>\n",
       "      <td>25.762563</td>\n",
       "      <td>63.641921</td>\n",
       "      <td>657.737457</td>\n",
       "      <td>31.558531</td>\n",
       "      <td>31.508815</td>\n",
       "      <td>53.485143</td>\n",
       "      <td>74.612996</td>\n",
       "      <td>266.774541</td>\n",
       "      <td>4.811480</td>\n",
       "      <td>1.051520</td>\n",
       "      <td>10</td>\n",
       "      <td>45.788853</td>\n",
       "      <td>8</td>\n",
       "      <td>3</td>\n",
       "    </tr>\n",
       "  </tbody>\n",
       "</table>\n",
       "<p>591239 rows × 16 columns</p>\n",
       "</div>"
      ],
      "text/plain": [
       "        active_power_calculated_by_converter  active_power_raw  \\\n",
       "0                                  59.071225         59.117203   \n",
       "1                                 258.278976        253.123637   \n",
       "2                                 234.884260        236.785260   \n",
       "3                                  50.535151         37.784692   \n",
       "4                                 247.842835        241.342895   \n",
       "...                                      ...               ...   \n",
       "591234                            121.264847        108.633915   \n",
       "591235                            679.381755        699.714915   \n",
       "591236                            289.928238        285.483582   \n",
       "591237                             28.318385         12.871501   \n",
       "591238                            282.908948        283.232198   \n",
       "\n",
       "        ambient_temperature  generator_winding_temp_max  \\\n",
       "0                 35.765579                   64.812227   \n",
       "1                 33.392501                   57.227210   \n",
       "2                 33.320189                   47.570285   \n",
       "3                 27.923465                   33.838225   \n",
       "4                 32.897556                   64.972858   \n",
       "...                     ...                         ...   \n",
       "591234            28.822063                   60.426447   \n",
       "591235            26.066999                   59.386416   \n",
       "591236            31.997511                   61.138416   \n",
       "591237            33.040375                   47.513898   \n",
       "591238            25.762563                   63.641921   \n",
       "\n",
       "        grid_power10min_average  nc1_inside_temp  nacelle_temp  \\\n",
       "0                    167.234988        31.835583     35.661191   \n",
       "1                    223.845406        32.870656     32.916340   \n",
       "2                    182.448718        33.043858     29.726347   \n",
       "3                     14.912772        33.752039     30.534683   \n",
       "4                    226.304581        32.558620     32.711412   \n",
       "...                         ...              ...           ...   \n",
       "591234                78.542900        28.404571     32.300816   \n",
       "591235               609.587229        34.645046     32.662838   \n",
       "591236               517.386113        41.325528     37.321171   \n",
       "591237                 8.731869        32.886009     30.212943   \n",
       "591238               657.737457        31.558531     31.508815   \n",
       "\n",
       "        reactice_power_calculated_by_converter  reactive_power  \\\n",
       "0                                    18.228060       24.117071   \n",
       "1                                    84.444679      102.651681   \n",
       "2                                    19.863061       38.311028   \n",
       "3                                    94.085461       96.431728   \n",
       "4                                    93.393299      103.011902   \n",
       "...                                        ...             ...   \n",
       "591234                               87.176760       97.308688   \n",
       "591235                               49.636947       73.951992   \n",
       "591236                               85.270166      106.643428   \n",
       "591237                               92.453150       95.705736   \n",
       "591238                               53.485143       74.612996   \n",
       "\n",
       "        wind_direction_raw  wind_speed_raw  wind_speed_turbulence  turbine_id  \\\n",
       "0               316.953893        4.016191               0.524196           0   \n",
       "1                70.390775        5.198709               0.311840          15   \n",
       "2               302.287781        5.443600               0.367809          11   \n",
       "3                93.148946        3.971027               0.631113          14   \n",
       "4               140.825768        4.746520               0.341984          14   \n",
       "...                    ...             ...                    ...         ...   \n",
       "591234          276.542084        3.921454               0.352061          15   \n",
       "591235          262.125946        6.539214               0.620994          10   \n",
       "591236           35.269936        4.627115               1.153216           9   \n",
       "591237          184.148130        3.581920               0.277640          14   \n",
       "591238          266.774541        4.811480               1.051520          10   \n",
       "\n",
       "           Target  Month  quarter  \n",
       "0       48.670906      6        2  \n",
       "1       47.779032     11        4  \n",
       "2       45.542946     12        4  \n",
       "3       47.515691      1        1  \n",
       "4       44.625755     12        4  \n",
       "...           ...    ...      ...  \n",
       "591234  49.511423      3        1  \n",
       "591235  46.682127      7        3  \n",
       "591236  49.314674     11        4  \n",
       "591237  51.652792      2        1  \n",
       "591238  45.788853      8        3  \n",
       "\n",
       "[591239 rows x 16 columns]"
      ]
     },
     "execution_count": 32,
     "metadata": {},
     "output_type": "execute_result"
    }
   ],
   "source": [
    "df"
   ]
  },
  {
   "cell_type": "code",
   "execution_count": 33,
   "id": "17ccc7bd",
   "metadata": {},
   "outputs": [],
   "source": [
    "df1=df[[\"active_power_calculated_by_converter\",\"active_power_raw\",\"reactive_power\",\"reactice_power_calculated_by_converter\",\"grid_power10min_average\",\"wind_speed_turbulence\",\"wind_speed_raw\"]]"
   ]
  },
  {
   "cell_type": "code",
   "execution_count": 34,
   "id": "b17307e9",
   "metadata": {},
   "outputs": [
    {
     "name": "stdout",
     "output_type": "stream",
     "text": [
      "(591239, 1)\n"
     ]
    }
   ],
   "source": [
    "# Scale data before applying PCA\n",
    "scaling=StandardScaler()\n",
    " \n",
    "# Use fit and transform method\n",
    "scaling.fit(df1)\n",
    "Scaled_data=scaling.transform(df1)\n",
    " \n",
    "#Set the n_components=3\n",
    "principal=PCA(n_components=1)\n",
    "principal.fit(Scaled_data)\n",
    "p=principal.transform(Scaled_data)\n",
    " \n",
    " #Check the dimensions of data after PCA\n",
    "print(p.shape)"
   ]
  },
  {
   "cell_type": "code",
   "execution_count": 35,
   "id": "aaa0fbe9",
   "metadata": {},
   "outputs": [],
   "source": [
    "x = df.drop(columns=\"Target\")           \n",
    "y = df[\"Target\"]"
   ]
  },
  {
   "cell_type": "code",
   "execution_count": 36,
   "id": "626423dd",
   "metadata": {},
   "outputs": [
    {
     "data": {
      "text/plain": [
       "0         48.670906\n",
       "1         47.779032\n",
       "2         45.542946\n",
       "3         47.515691\n",
       "4         44.625755\n",
       "            ...    \n",
       "591234    49.511423\n",
       "591235    46.682127\n",
       "591236    49.314674\n",
       "591237    51.652792\n",
       "591238    45.788853\n",
       "Name: Target, Length: 591239, dtype: float64"
      ]
     },
     "execution_count": 36,
     "metadata": {},
     "output_type": "execute_result"
    }
   ],
   "source": [
    "y"
   ]
  },
  {
   "cell_type": "code",
   "execution_count": 37,
   "id": "d2e3b02f",
   "metadata": {},
   "outputs": [],
   "source": [
    "x.drop([\"active_power_calculated_by_converter\",\"active_power_raw\",\"reactive_power\",\"reactice_power_calculated_by_converter\",\"grid_power10min_average\",\"wind_speed_raw\",\"wind_speed_turbulence\"],axis=1,inplace=True)"
   ]
  },
  {
   "cell_type": "code",
   "execution_count": 38,
   "id": "c59f7d23",
   "metadata": {},
   "outputs": [
    {
     "data": {
      "text/plain": [
       "(591239, 1)"
      ]
     },
     "execution_count": 38,
     "metadata": {},
     "output_type": "execute_result"
    }
   ],
   "source": [
    "p.shape"
   ]
  },
  {
   "cell_type": "code",
   "execution_count": 39,
   "id": "bc122d13",
   "metadata": {},
   "outputs": [
    {
     "data": {
      "text/html": [
       "<div>\n",
       "<style scoped>\n",
       "    .dataframe tbody tr th:only-of-type {\n",
       "        vertical-align: middle;\n",
       "    }\n",
       "\n",
       "    .dataframe tbody tr th {\n",
       "        vertical-align: top;\n",
       "    }\n",
       "\n",
       "    .dataframe thead th {\n",
       "        text-align: right;\n",
       "    }\n",
       "</style>\n",
       "<table border=\"1\" class=\"dataframe\">\n",
       "  <thead>\n",
       "    <tr style=\"text-align: right;\">\n",
       "      <th></th>\n",
       "      <th>pc_1</th>\n",
       "    </tr>\n",
       "  </thead>\n",
       "  <tbody>\n",
       "    <tr>\n",
       "      <th>0</th>\n",
       "      <td>-2.498563</td>\n",
       "    </tr>\n",
       "    <tr>\n",
       "      <th>1</th>\n",
       "      <td>-1.383730</td>\n",
       "    </tr>\n",
       "    <tr>\n",
       "      <th>2</th>\n",
       "      <td>-1.953316</td>\n",
       "    </tr>\n",
       "    <tr>\n",
       "      <th>3</th>\n",
       "      <td>-1.897947</td>\n",
       "    </tr>\n",
       "    <tr>\n",
       "      <th>4</th>\n",
       "      <td>-1.421449</td>\n",
       "    </tr>\n",
       "    <tr>\n",
       "      <th>...</th>\n",
       "      <td>...</td>\n",
       "    </tr>\n",
       "    <tr>\n",
       "      <th>591234</th>\n",
       "      <td>-1.975721</td>\n",
       "    </tr>\n",
       "    <tr>\n",
       "      <th>591235</th>\n",
       "      <td>-0.115689</td>\n",
       "    </tr>\n",
       "    <tr>\n",
       "      <th>591236</th>\n",
       "      <td>-0.535582</td>\n",
       "    </tr>\n",
       "    <tr>\n",
       "      <th>591237</th>\n",
       "      <td>-2.299546</td>\n",
       "    </tr>\n",
       "    <tr>\n",
       "      <th>591238</th>\n",
       "      <td>-0.759923</td>\n",
       "    </tr>\n",
       "  </tbody>\n",
       "</table>\n",
       "<p>591239 rows × 1 columns</p>\n",
       "</div>"
      ],
      "text/plain": [
       "            pc_1\n",
       "0      -2.498563\n",
       "1      -1.383730\n",
       "2      -1.953316\n",
       "3      -1.897947\n",
       "4      -1.421449\n",
       "...          ...\n",
       "591234 -1.975721\n",
       "591235 -0.115689\n",
       "591236 -0.535582\n",
       "591237 -2.299546\n",
       "591238 -0.759923\n",
       "\n",
       "[591239 rows x 1 columns]"
      ]
     },
     "execution_count": 39,
     "metadata": {},
     "output_type": "execute_result"
    }
   ],
   "source": [
    "df2=pd.DataFrame(p,columns=['pc_1'])\n",
    "df2"
   ]
  },
  {
   "cell_type": "code",
   "execution_count": 40,
   "id": "88f3af66",
   "metadata": {},
   "outputs": [
    {
     "data": {
      "text/html": [
       "<div>\n",
       "<style scoped>\n",
       "    .dataframe tbody tr th:only-of-type {\n",
       "        vertical-align: middle;\n",
       "    }\n",
       "\n",
       "    .dataframe tbody tr th {\n",
       "        vertical-align: top;\n",
       "    }\n",
       "\n",
       "    .dataframe thead th {\n",
       "        text-align: right;\n",
       "    }\n",
       "</style>\n",
       "<table border=\"1\" class=\"dataframe\">\n",
       "  <thead>\n",
       "    <tr style=\"text-align: right;\">\n",
       "      <th></th>\n",
       "      <th>ambient_temperature</th>\n",
       "      <th>generator_winding_temp_max</th>\n",
       "      <th>nc1_inside_temp</th>\n",
       "      <th>nacelle_temp</th>\n",
       "      <th>wind_direction_raw</th>\n",
       "      <th>turbine_id</th>\n",
       "      <th>Month</th>\n",
       "      <th>quarter</th>\n",
       "    </tr>\n",
       "  </thead>\n",
       "  <tbody>\n",
       "    <tr>\n",
       "      <th>0</th>\n",
       "      <td>35.765579</td>\n",
       "      <td>64.812227</td>\n",
       "      <td>31.835583</td>\n",
       "      <td>35.661191</td>\n",
       "      <td>316.953893</td>\n",
       "      <td>0</td>\n",
       "      <td>6</td>\n",
       "      <td>2</td>\n",
       "    </tr>\n",
       "    <tr>\n",
       "      <th>1</th>\n",
       "      <td>33.392501</td>\n",
       "      <td>57.227210</td>\n",
       "      <td>32.870656</td>\n",
       "      <td>32.916340</td>\n",
       "      <td>70.390775</td>\n",
       "      <td>15</td>\n",
       "      <td>11</td>\n",
       "      <td>4</td>\n",
       "    </tr>\n",
       "    <tr>\n",
       "      <th>2</th>\n",
       "      <td>33.320189</td>\n",
       "      <td>47.570285</td>\n",
       "      <td>33.043858</td>\n",
       "      <td>29.726347</td>\n",
       "      <td>302.287781</td>\n",
       "      <td>11</td>\n",
       "      <td>12</td>\n",
       "      <td>4</td>\n",
       "    </tr>\n",
       "    <tr>\n",
       "      <th>3</th>\n",
       "      <td>27.923465</td>\n",
       "      <td>33.838225</td>\n",
       "      <td>33.752039</td>\n",
       "      <td>30.534683</td>\n",
       "      <td>93.148946</td>\n",
       "      <td>14</td>\n",
       "      <td>1</td>\n",
       "      <td>1</td>\n",
       "    </tr>\n",
       "    <tr>\n",
       "      <th>4</th>\n",
       "      <td>32.897556</td>\n",
       "      <td>64.972858</td>\n",
       "      <td>32.558620</td>\n",
       "      <td>32.711412</td>\n",
       "      <td>140.825768</td>\n",
       "      <td>14</td>\n",
       "      <td>12</td>\n",
       "      <td>4</td>\n",
       "    </tr>\n",
       "    <tr>\n",
       "      <th>...</th>\n",
       "      <td>...</td>\n",
       "      <td>...</td>\n",
       "      <td>...</td>\n",
       "      <td>...</td>\n",
       "      <td>...</td>\n",
       "      <td>...</td>\n",
       "      <td>...</td>\n",
       "      <td>...</td>\n",
       "    </tr>\n",
       "    <tr>\n",
       "      <th>591234</th>\n",
       "      <td>28.822063</td>\n",
       "      <td>60.426447</td>\n",
       "      <td>28.404571</td>\n",
       "      <td>32.300816</td>\n",
       "      <td>276.542084</td>\n",
       "      <td>15</td>\n",
       "      <td>3</td>\n",
       "      <td>1</td>\n",
       "    </tr>\n",
       "    <tr>\n",
       "      <th>591235</th>\n",
       "      <td>26.066999</td>\n",
       "      <td>59.386416</td>\n",
       "      <td>34.645046</td>\n",
       "      <td>32.662838</td>\n",
       "      <td>262.125946</td>\n",
       "      <td>10</td>\n",
       "      <td>7</td>\n",
       "      <td>3</td>\n",
       "    </tr>\n",
       "    <tr>\n",
       "      <th>591236</th>\n",
       "      <td>31.997511</td>\n",
       "      <td>61.138416</td>\n",
       "      <td>41.325528</td>\n",
       "      <td>37.321171</td>\n",
       "      <td>35.269936</td>\n",
       "      <td>9</td>\n",
       "      <td>11</td>\n",
       "      <td>4</td>\n",
       "    </tr>\n",
       "    <tr>\n",
       "      <th>591237</th>\n",
       "      <td>33.040375</td>\n",
       "      <td>47.513898</td>\n",
       "      <td>32.886009</td>\n",
       "      <td>30.212943</td>\n",
       "      <td>184.148130</td>\n",
       "      <td>14</td>\n",
       "      <td>2</td>\n",
       "      <td>1</td>\n",
       "    </tr>\n",
       "    <tr>\n",
       "      <th>591238</th>\n",
       "      <td>25.762563</td>\n",
       "      <td>63.641921</td>\n",
       "      <td>31.558531</td>\n",
       "      <td>31.508815</td>\n",
       "      <td>266.774541</td>\n",
       "      <td>10</td>\n",
       "      <td>8</td>\n",
       "      <td>3</td>\n",
       "    </tr>\n",
       "  </tbody>\n",
       "</table>\n",
       "<p>591239 rows × 8 columns</p>\n",
       "</div>"
      ],
      "text/plain": [
       "        ambient_temperature  generator_winding_temp_max  nc1_inside_temp  \\\n",
       "0                 35.765579                   64.812227        31.835583   \n",
       "1                 33.392501                   57.227210        32.870656   \n",
       "2                 33.320189                   47.570285        33.043858   \n",
       "3                 27.923465                   33.838225        33.752039   \n",
       "4                 32.897556                   64.972858        32.558620   \n",
       "...                     ...                         ...              ...   \n",
       "591234            28.822063                   60.426447        28.404571   \n",
       "591235            26.066999                   59.386416        34.645046   \n",
       "591236            31.997511                   61.138416        41.325528   \n",
       "591237            33.040375                   47.513898        32.886009   \n",
       "591238            25.762563                   63.641921        31.558531   \n",
       "\n",
       "        nacelle_temp  wind_direction_raw  turbine_id  Month  quarter  \n",
       "0          35.661191          316.953893           0      6        2  \n",
       "1          32.916340           70.390775          15     11        4  \n",
       "2          29.726347          302.287781          11     12        4  \n",
       "3          30.534683           93.148946          14      1        1  \n",
       "4          32.711412          140.825768          14     12        4  \n",
       "...              ...                 ...         ...    ...      ...  \n",
       "591234     32.300816          276.542084          15      3        1  \n",
       "591235     32.662838          262.125946          10      7        3  \n",
       "591236     37.321171           35.269936           9     11        4  \n",
       "591237     30.212943          184.148130          14      2        1  \n",
       "591238     31.508815          266.774541          10      8        3  \n",
       "\n",
       "[591239 rows x 8 columns]"
      ]
     },
     "execution_count": 40,
     "metadata": {},
     "output_type": "execute_result"
    }
   ],
   "source": [
    "x"
   ]
  },
  {
   "cell_type": "code",
   "execution_count": 41,
   "id": "e64adaa2",
   "metadata": {},
   "outputs": [],
   "source": [
    "# Scale data before applying PCA\n",
    "scaling=StandardScaler()\n",
    " \n",
    "# Use fit and transform method\n",
    "scaling.fit(x)\n",
    "Scaled_data=scaling.transform(x)"
   ]
  },
  {
   "cell_type": "code",
   "execution_count": 42,
   "id": "04613c28",
   "metadata": {},
   "outputs": [],
   "source": [
    "x=Scaled_data"
   ]
  },
  {
   "cell_type": "code",
   "execution_count": 43,
   "id": "82d9c4e1",
   "metadata": {},
   "outputs": [
    {
     "data": {
      "text/plain": [
       "(591239, 8)"
      ]
     },
     "execution_count": 43,
     "metadata": {},
     "output_type": "execute_result"
    }
   ],
   "source": [
    "x.shape"
   ]
  },
  {
   "cell_type": "code",
   "execution_count": 44,
   "id": "1d3e789f",
   "metadata": {},
   "outputs": [],
   "source": [
    "\n",
    "from sklearn.linear_model import LinearRegression  \n",
    "from sklearn.model_selection import train_test_split\n",
    "from sklearn.metrics import mean_absolute_error ,mean_squared_error, median_absolute_error,confusion_matrix,accuracy_score,r2_score\n",
    "\n",
    "from sklearn.tree import DecisionTreeRegressor\n",
    "from sklearn.neighbors import KNeighborsRegressor\n",
    "from sklearn.preprocessing import StandardScaler ,PolynomialFeatures,minmax_scale,MaxAbsScaler ,LabelEncoder,MinMaxScaler\n",
    "\n",
    "from sklearn.ensemble import RandomForestRegressor\n",
    "from sklearn.neural_network import MLPRegressor\n",
    "\n",
    "from sklearn.svm import SVR\n",
    "from xgboost import XGBRegressor"
   ]
  },
  {
   "cell_type": "code",
   "execution_count": 45,
   "id": "b147321e",
   "metadata": {},
   "outputs": [
    {
     "data": {
      "text/html": [
       "<div>\n",
       "<style scoped>\n",
       "    .dataframe tbody tr th:only-of-type {\n",
       "        vertical-align: middle;\n",
       "    }\n",
       "\n",
       "    .dataframe tbody tr th {\n",
       "        vertical-align: top;\n",
       "    }\n",
       "\n",
       "    .dataframe thead th {\n",
       "        text-align: right;\n",
       "    }\n",
       "</style>\n",
       "<table border=\"1\" class=\"dataframe\">\n",
       "  <thead>\n",
       "    <tr style=\"text-align: right;\">\n",
       "      <th></th>\n",
       "      <th>0</th>\n",
       "      <th>1</th>\n",
       "      <th>2</th>\n",
       "      <th>3</th>\n",
       "      <th>4</th>\n",
       "      <th>5</th>\n",
       "      <th>6</th>\n",
       "      <th>7</th>\n",
       "    </tr>\n",
       "  </thead>\n",
       "  <tbody>\n",
       "    <tr>\n",
       "      <th>0</th>\n",
       "      <td>1.273929</td>\n",
       "      <td>0.420207</td>\n",
       "      <td>0.020301</td>\n",
       "      <td>1.118804</td>\n",
       "      <td>1.121727</td>\n",
       "      <td>-1.643617</td>\n",
       "      <td>-0.174747</td>\n",
       "      <td>-0.478842</td>\n",
       "    </tr>\n",
       "    <tr>\n",
       "      <th>1</th>\n",
       "      <td>0.976112</td>\n",
       "      <td>-0.359923</td>\n",
       "      <td>0.284097</td>\n",
       "      <td>0.345696</td>\n",
       "      <td>-1.234922</td>\n",
       "      <td>1.624557</td>\n",
       "      <td>1.295306</td>\n",
       "      <td>1.335199</td>\n",
       "    </tr>\n",
       "    <tr>\n",
       "      <th>2</th>\n",
       "      <td>0.967037</td>\n",
       "      <td>-1.353153</td>\n",
       "      <td>0.328239</td>\n",
       "      <td>-0.552790</td>\n",
       "      <td>0.981548</td>\n",
       "      <td>0.753044</td>\n",
       "      <td>1.589316</td>\n",
       "      <td>1.335199</td>\n",
       "    </tr>\n",
       "    <tr>\n",
       "      <th>3</th>\n",
       "      <td>0.289758</td>\n",
       "      <td>-2.765517</td>\n",
       "      <td>0.508724</td>\n",
       "      <td>-0.325116</td>\n",
       "      <td>-1.017399</td>\n",
       "      <td>1.406678</td>\n",
       "      <td>-1.644800</td>\n",
       "      <td>-1.385863</td>\n",
       "    </tr>\n",
       "    <tr>\n",
       "      <th>4</th>\n",
       "      <td>0.913998</td>\n",
       "      <td>0.436729</td>\n",
       "      <td>0.204572</td>\n",
       "      <td>0.287976</td>\n",
       "      <td>-0.561705</td>\n",
       "      <td>1.406678</td>\n",
       "      <td>1.589316</td>\n",
       "      <td>1.335199</td>\n",
       "    </tr>\n",
       "    <tr>\n",
       "      <th>...</th>\n",
       "      <td>...</td>\n",
       "      <td>...</td>\n",
       "      <td>...</td>\n",
       "      <td>...</td>\n",
       "      <td>...</td>\n",
       "      <td>...</td>\n",
       "      <td>...</td>\n",
       "      <td>...</td>\n",
       "    </tr>\n",
       "    <tr>\n",
       "      <th>591234</th>\n",
       "      <td>0.402531</td>\n",
       "      <td>-0.030877</td>\n",
       "      <td>-0.854119</td>\n",
       "      <td>0.172329</td>\n",
       "      <td>0.735471</td>\n",
       "      <td>1.624557</td>\n",
       "      <td>-1.056779</td>\n",
       "      <td>-1.385863</td>\n",
       "    </tr>\n",
       "    <tr>\n",
       "      <th>591235</th>\n",
       "      <td>0.056775</td>\n",
       "      <td>-0.137846</td>\n",
       "      <td>0.736314</td>\n",
       "      <td>0.274295</td>\n",
       "      <td>0.597682</td>\n",
       "      <td>0.535165</td>\n",
       "      <td>0.119263</td>\n",
       "      <td>0.428179</td>\n",
       "    </tr>\n",
       "    <tr>\n",
       "      <th>591236</th>\n",
       "      <td>0.801044</td>\n",
       "      <td>0.042350</td>\n",
       "      <td>2.438887</td>\n",
       "      <td>1.586350</td>\n",
       "      <td>-1.570607</td>\n",
       "      <td>0.317287</td>\n",
       "      <td>1.295306</td>\n",
       "      <td>1.335199</td>\n",
       "    </tr>\n",
       "    <tr>\n",
       "      <th>591237</th>\n",
       "      <td>0.931921</td>\n",
       "      <td>-1.358953</td>\n",
       "      <td>0.288010</td>\n",
       "      <td>-0.415737</td>\n",
       "      <td>-0.147630</td>\n",
       "      <td>1.406678</td>\n",
       "      <td>-1.350790</td>\n",
       "      <td>-1.385863</td>\n",
       "    </tr>\n",
       "    <tr>\n",
       "      <th>591238</th>\n",
       "      <td>0.018569</td>\n",
       "      <td>0.299840</td>\n",
       "      <td>-0.050308</td>\n",
       "      <td>-0.050744</td>\n",
       "      <td>0.642113</td>\n",
       "      <td>0.535165</td>\n",
       "      <td>0.413274</td>\n",
       "      <td>0.428179</td>\n",
       "    </tr>\n",
       "  </tbody>\n",
       "</table>\n",
       "<p>591239 rows × 8 columns</p>\n",
       "</div>"
      ],
      "text/plain": [
       "               0         1         2         3         4         5         6  \\\n",
       "0       1.273929  0.420207  0.020301  1.118804  1.121727 -1.643617 -0.174747   \n",
       "1       0.976112 -0.359923  0.284097  0.345696 -1.234922  1.624557  1.295306   \n",
       "2       0.967037 -1.353153  0.328239 -0.552790  0.981548  0.753044  1.589316   \n",
       "3       0.289758 -2.765517  0.508724 -0.325116 -1.017399  1.406678 -1.644800   \n",
       "4       0.913998  0.436729  0.204572  0.287976 -0.561705  1.406678  1.589316   \n",
       "...          ...       ...       ...       ...       ...       ...       ...   \n",
       "591234  0.402531 -0.030877 -0.854119  0.172329  0.735471  1.624557 -1.056779   \n",
       "591235  0.056775 -0.137846  0.736314  0.274295  0.597682  0.535165  0.119263   \n",
       "591236  0.801044  0.042350  2.438887  1.586350 -1.570607  0.317287  1.295306   \n",
       "591237  0.931921 -1.358953  0.288010 -0.415737 -0.147630  1.406678 -1.350790   \n",
       "591238  0.018569  0.299840 -0.050308 -0.050744  0.642113  0.535165  0.413274   \n",
       "\n",
       "               7  \n",
       "0      -0.478842  \n",
       "1       1.335199  \n",
       "2       1.335199  \n",
       "3      -1.385863  \n",
       "4       1.335199  \n",
       "...          ...  \n",
       "591234 -1.385863  \n",
       "591235  0.428179  \n",
       "591236  1.335199  \n",
       "591237 -1.385863  \n",
       "591238  0.428179  \n",
       "\n",
       "[591239 rows x 8 columns]"
      ]
     },
     "execution_count": 45,
     "metadata": {},
     "output_type": "execute_result"
    }
   ],
   "source": [
    "x=pd.DataFrame(x)\n",
    "x"
   ]
  },
  {
   "cell_type": "code",
   "execution_count": 46,
   "id": "0e5e145c",
   "metadata": {},
   "outputs": [
    {
     "data": {
      "text/html": [
       "<div>\n",
       "<style scoped>\n",
       "    .dataframe tbody tr th:only-of-type {\n",
       "        vertical-align: middle;\n",
       "    }\n",
       "\n",
       "    .dataframe tbody tr th {\n",
       "        vertical-align: top;\n",
       "    }\n",
       "\n",
       "    .dataframe thead th {\n",
       "        text-align: right;\n",
       "    }\n",
       "</style>\n",
       "<table border=\"1\" class=\"dataframe\">\n",
       "  <thead>\n",
       "    <tr style=\"text-align: right;\">\n",
       "      <th></th>\n",
       "      <th>0</th>\n",
       "      <th>1</th>\n",
       "      <th>2</th>\n",
       "      <th>3</th>\n",
       "      <th>4</th>\n",
       "      <th>5</th>\n",
       "      <th>6</th>\n",
       "      <th>7</th>\n",
       "      <th>pc_1</th>\n",
       "    </tr>\n",
       "  </thead>\n",
       "  <tbody>\n",
       "    <tr>\n",
       "      <th>0</th>\n",
       "      <td>1.273929</td>\n",
       "      <td>0.420207</td>\n",
       "      <td>0.020301</td>\n",
       "      <td>1.118804</td>\n",
       "      <td>1.121727</td>\n",
       "      <td>-1.643617</td>\n",
       "      <td>-0.174747</td>\n",
       "      <td>-0.478842</td>\n",
       "      <td>-2.498563</td>\n",
       "    </tr>\n",
       "    <tr>\n",
       "      <th>1</th>\n",
       "      <td>0.976112</td>\n",
       "      <td>-0.359923</td>\n",
       "      <td>0.284097</td>\n",
       "      <td>0.345696</td>\n",
       "      <td>-1.234922</td>\n",
       "      <td>1.624557</td>\n",
       "      <td>1.295306</td>\n",
       "      <td>1.335199</td>\n",
       "      <td>-1.383730</td>\n",
       "    </tr>\n",
       "    <tr>\n",
       "      <th>2</th>\n",
       "      <td>0.967037</td>\n",
       "      <td>-1.353153</td>\n",
       "      <td>0.328239</td>\n",
       "      <td>-0.552790</td>\n",
       "      <td>0.981548</td>\n",
       "      <td>0.753044</td>\n",
       "      <td>1.589316</td>\n",
       "      <td>1.335199</td>\n",
       "      <td>-1.953316</td>\n",
       "    </tr>\n",
       "    <tr>\n",
       "      <th>3</th>\n",
       "      <td>0.289758</td>\n",
       "      <td>-2.765517</td>\n",
       "      <td>0.508724</td>\n",
       "      <td>-0.325116</td>\n",
       "      <td>-1.017399</td>\n",
       "      <td>1.406678</td>\n",
       "      <td>-1.644800</td>\n",
       "      <td>-1.385863</td>\n",
       "      <td>-1.897947</td>\n",
       "    </tr>\n",
       "    <tr>\n",
       "      <th>4</th>\n",
       "      <td>0.913998</td>\n",
       "      <td>0.436729</td>\n",
       "      <td>0.204572</td>\n",
       "      <td>0.287976</td>\n",
       "      <td>-0.561705</td>\n",
       "      <td>1.406678</td>\n",
       "      <td>1.589316</td>\n",
       "      <td>1.335199</td>\n",
       "      <td>-1.421449</td>\n",
       "    </tr>\n",
       "    <tr>\n",
       "      <th>...</th>\n",
       "      <td>...</td>\n",
       "      <td>...</td>\n",
       "      <td>...</td>\n",
       "      <td>...</td>\n",
       "      <td>...</td>\n",
       "      <td>...</td>\n",
       "      <td>...</td>\n",
       "      <td>...</td>\n",
       "      <td>...</td>\n",
       "    </tr>\n",
       "    <tr>\n",
       "      <th>591234</th>\n",
       "      <td>0.402531</td>\n",
       "      <td>-0.030877</td>\n",
       "      <td>-0.854119</td>\n",
       "      <td>0.172329</td>\n",
       "      <td>0.735471</td>\n",
       "      <td>1.624557</td>\n",
       "      <td>-1.056779</td>\n",
       "      <td>-1.385863</td>\n",
       "      <td>-1.975721</td>\n",
       "    </tr>\n",
       "    <tr>\n",
       "      <th>591235</th>\n",
       "      <td>0.056775</td>\n",
       "      <td>-0.137846</td>\n",
       "      <td>0.736314</td>\n",
       "      <td>0.274295</td>\n",
       "      <td>0.597682</td>\n",
       "      <td>0.535165</td>\n",
       "      <td>0.119263</td>\n",
       "      <td>0.428179</td>\n",
       "      <td>-0.115689</td>\n",
       "    </tr>\n",
       "    <tr>\n",
       "      <th>591236</th>\n",
       "      <td>0.801044</td>\n",
       "      <td>0.042350</td>\n",
       "      <td>2.438887</td>\n",
       "      <td>1.586350</td>\n",
       "      <td>-1.570607</td>\n",
       "      <td>0.317287</td>\n",
       "      <td>1.295306</td>\n",
       "      <td>1.335199</td>\n",
       "      <td>-0.535582</td>\n",
       "    </tr>\n",
       "    <tr>\n",
       "      <th>591237</th>\n",
       "      <td>0.931921</td>\n",
       "      <td>-1.358953</td>\n",
       "      <td>0.288010</td>\n",
       "      <td>-0.415737</td>\n",
       "      <td>-0.147630</td>\n",
       "      <td>1.406678</td>\n",
       "      <td>-1.350790</td>\n",
       "      <td>-1.385863</td>\n",
       "      <td>-2.299546</td>\n",
       "    </tr>\n",
       "    <tr>\n",
       "      <th>591238</th>\n",
       "      <td>0.018569</td>\n",
       "      <td>0.299840</td>\n",
       "      <td>-0.050308</td>\n",
       "      <td>-0.050744</td>\n",
       "      <td>0.642113</td>\n",
       "      <td>0.535165</td>\n",
       "      <td>0.413274</td>\n",
       "      <td>0.428179</td>\n",
       "      <td>-0.759923</td>\n",
       "    </tr>\n",
       "  </tbody>\n",
       "</table>\n",
       "<p>591239 rows × 9 columns</p>\n",
       "</div>"
      ],
      "text/plain": [
       "               0         1         2         3         4         5         6  \\\n",
       "0       1.273929  0.420207  0.020301  1.118804  1.121727 -1.643617 -0.174747   \n",
       "1       0.976112 -0.359923  0.284097  0.345696 -1.234922  1.624557  1.295306   \n",
       "2       0.967037 -1.353153  0.328239 -0.552790  0.981548  0.753044  1.589316   \n",
       "3       0.289758 -2.765517  0.508724 -0.325116 -1.017399  1.406678 -1.644800   \n",
       "4       0.913998  0.436729  0.204572  0.287976 -0.561705  1.406678  1.589316   \n",
       "...          ...       ...       ...       ...       ...       ...       ...   \n",
       "591234  0.402531 -0.030877 -0.854119  0.172329  0.735471  1.624557 -1.056779   \n",
       "591235  0.056775 -0.137846  0.736314  0.274295  0.597682  0.535165  0.119263   \n",
       "591236  0.801044  0.042350  2.438887  1.586350 -1.570607  0.317287  1.295306   \n",
       "591237  0.931921 -1.358953  0.288010 -0.415737 -0.147630  1.406678 -1.350790   \n",
       "591238  0.018569  0.299840 -0.050308 -0.050744  0.642113  0.535165  0.413274   \n",
       "\n",
       "               7      pc_1  \n",
       "0      -0.478842 -2.498563  \n",
       "1       1.335199 -1.383730  \n",
       "2       1.335199 -1.953316  \n",
       "3      -1.385863 -1.897947  \n",
       "4       1.335199 -1.421449  \n",
       "...          ...       ...  \n",
       "591234 -1.385863 -1.975721  \n",
       "591235  0.428179 -0.115689  \n",
       "591236  1.335199 -0.535582  \n",
       "591237 -1.385863 -2.299546  \n",
       "591238  0.428179 -0.759923  \n",
       "\n",
       "[591239 rows x 9 columns]"
      ]
     },
     "execution_count": 46,
     "metadata": {},
     "output_type": "execute_result"
    }
   ],
   "source": [
    "result=pd.concat([x,df2],axis=1,join='outer')\n",
    "result"
   ]
  },
  {
   "cell_type": "code",
   "execution_count": 47,
   "id": "c55d6ae5",
   "metadata": {},
   "outputs": [
    {
     "data": {
      "text/plain": [
       "0         48.670906\n",
       "1         47.779032\n",
       "2         45.542946\n",
       "3         47.515691\n",
       "4         44.625755\n",
       "            ...    \n",
       "591234    49.511423\n",
       "591235    46.682127\n",
       "591236    49.314674\n",
       "591237    51.652792\n",
       "591238    45.788853\n",
       "Name: Target, Length: 591239, dtype: float64"
      ]
     },
     "execution_count": 47,
     "metadata": {},
     "output_type": "execute_result"
    }
   ],
   "source": [
    "x = result          \n",
    "y = df[\"Target\"]\n",
    "y"
   ]
  },
  {
   "cell_type": "code",
   "execution_count": 48,
   "id": "7538e3ac",
   "metadata": {},
   "outputs": [
    {
     "name": "stdout",
     "output_type": "stream",
     "text": [
      "X Train :  (472991, 9)\n",
      "X Test  :  (118248, 9)\n",
      "Y Train :  (472991,)\n",
      "Y Test  :  (118248,)\n"
     ]
    }
   ],
   "source": [
    "# split the data train and test\n",
    "X_train, X_test, y_train, y_test = train_test_split(x, y, test_size=0.20, random_state=42)\n",
    "\n",
    "print(\"X Train : \", X_train.shape)\n",
    "print(\"X Test  : \", X_test.shape)\n",
    "print(\"Y Train : \", y_train.shape)\n",
    "print(\"Y Test  : \", y_test.shape)"
   ]
  },
  {
   "cell_type": "code",
   "execution_count": 49,
   "id": "71fd0aef",
   "metadata": {},
   "outputs": [
    {
     "name": "stdout",
     "output_type": "stream",
     "text": [
      "91.11762976153972\n"
     ]
    }
   ],
   "source": [
    "RFR = RandomForestRegressor(random_state=4,n_estimators=240)\n",
    "RFR.fit(X_train,y_train)\n",
    "ypred = RFR.predict(X_test)\n",
    "print(r2_score(y_test,ypred)*100)\n"
   ]
  },
  {
   "cell_type": "code",
   "execution_count": 50,
   "id": "4a477cb3",
   "metadata": {},
   "outputs": [
    {
     "data": {
      "text/plain": [
       "0.9111762976153972"
      ]
     },
     "execution_count": 50,
     "metadata": {},
     "output_type": "execute_result"
    }
   ],
   "source": [
    "RFR.score(X_test,y_test)"
   ]
  },
  {
   "cell_type": "code",
   "execution_count": 51,
   "id": "77cdb344",
   "metadata": {},
   "outputs": [
    {
     "data": {
      "text/plain": [
       "0.5091930592995049"
      ]
     },
     "execution_count": 51,
     "metadata": {},
     "output_type": "execute_result"
    }
   ],
   "source": [
    "mean_absolute_error(y_test,ypred)"
   ]
  },
  {
   "cell_type": "code",
   "execution_count": 54,
   "id": "6b217292",
   "metadata": {},
   "outputs": [
    {
     "name": "stdout",
     "output_type": "stream",
     "text": [
      "Defaulting to user installation because normal site-packages is not writeableNote: you may need to restart the kernel to use updated packages.\n",
      "\n"
     ]
    },
    {
     "name": "stderr",
     "output_type": "stream",
     "text": [
      "ERROR: Could not find a version that satisfies the requirement ExtratreesRegressor (from versions: none)\n",
      "ERROR: No matching distribution found for ExtratreesRegressor\n"
     ]
    }
   ],
   "source": [
    "pip install ExtratreesRegressor"
   ]
  },
  {
   "cell_type": "code",
   "execution_count": 53,
   "id": "a518b84a",
   "metadata": {},
   "outputs": [
    {
     "ename": "NameError",
     "evalue": "name 'ExtratreesRegressor' is not defined",
     "output_type": "error",
     "traceback": [
      "\u001b[1;31m---------------------------------------------------------------------------\u001b[0m",
      "\u001b[1;31mNameError\u001b[0m                                 Traceback (most recent call last)",
      "Input \u001b[1;32mIn [53]\u001b[0m, in \u001b[0;36m<cell line: 2>\u001b[1;34m()\u001b[0m\n\u001b[0;32m      1\u001b[0m \u001b[38;5;28;01mfrom\u001b[39;00m \u001b[38;5;21;01msklearn\u001b[39;00m\u001b[38;5;21;01m.\u001b[39;00m\u001b[38;5;21;01mensemble\u001b[39;00m \u001b[38;5;28;01mimport\u001b[39;00m ExtraTreesRegressor \n\u001b[1;32m----> 2\u001b[0m reg\u001b[38;5;241m=\u001b[39m\u001b[43mExtratreesRegressor\u001b[49m(n_estimator\u001b[38;5;241m=\u001b[39m\u001b[38;5;241m200\u001b[39m,random_state\u001b[38;5;241m=\u001b[39m\u001b[38;5;241m42\u001b[39m,n_jobs\u001b[38;5;241m=\u001b[39m\u001b[38;5;241m-\u001b[39m\u001b[38;5;241m1\u001b[39m)\n\u001b[0;32m      3\u001b[0m reg\u001b[38;5;241m.\u001b[39mfit(X_train,y_train)\n\u001b[0;32m      4\u001b[0m reg\u001b[38;5;241m.\u001b[39mscore(X_test,y_test)\n",
      "\u001b[1;31mNameError\u001b[0m: name 'ExtratreesRegressor' is not defined"
     ]
    }
   ],
   "source": [
    "from sklearn.ensemble import ExtraTreesRegressor \n",
    "reg=ExtratreesRegressor(n_estimator=200,random_state=42,n_jobs=-1)\n",
    "reg.fit(X_train,y_train)\n",
    "reg.score(X_test,y_test)\n",
    "mean_absolute_error(y_test,ypred)"
   ]
  },
  {
   "cell_type": "code",
   "execution_count": null,
   "id": "fd8aaf7f",
   "metadata": {},
   "outputs": [],
   "source": [
    "reg.score(X_test,y_test)"
   ]
  },
  {
   "cell_type": "code",
   "execution_count": null,
   "id": "e0eab8c6",
   "metadata": {},
   "outputs": [],
   "source": [
    "test_df.drop(['generator_speed'],axis=1,inplace=True)"
   ]
  },
  {
   "cell_type": "code",
   "execution_count": null,
   "id": "c564af75",
   "metadata": {},
   "outputs": [],
   "source": [
    "missing = df.isnull().sum()\n",
    "missing = missing[missing > 0]\n",
    "missing = missing.sort_values(ascending = False)\n",
    "missing"
   ]
  },
  {
   "cell_type": "code",
   "execution_count": null,
   "id": "fd4e708f",
   "metadata": {},
   "outputs": [],
   "source": [
    "test_df[\"turbine_id\"].fillna(test_df[\"turbine_id\"].mode()[0],inplace = True)\n",
    "test_df[\"timestamp\"] = test_df['timestamp'].str.split(', ', expand=True).stack().reset_index(level=1, drop=True);\n",
    "test_df['timestamp'] = test_df['timestamp'].apply(lambda x: x.split(\" \")[0]) \n",
    "test_df['timestamp']"
   ]
  },
  {
   "cell_type": "code",
   "execution_count": null,
   "id": "b7833840",
   "metadata": {},
   "outputs": [],
   "source": [
    "test_df['timestamp'] = pd.to_datetime(test_df['timestamp'])\n",
    "test_df['Month'] = test_df['timestamp'].apply(lambda x: x.month)\n",
    "test_df[\"quarter\"]=test_df[\"timestamp\"].dt.quarter\n",
    "test_df.drop([\"timestamp\"],axis=1,inplace=True)"
   ]
  },
  {
   "cell_type": "code",
   "execution_count": null,
   "id": "d39361dc",
   "metadata": {},
   "outputs": [],
   "source": [
    "le = LabelEncoder()\n",
    "test_df['turbine_id']=le.fit_transform(test_df['turbine_id'])"
   ]
  },
  {
   "cell_type": "code",
   "execution_count": null,
   "id": "77677fec",
   "metadata": {},
   "outputs": [],
   "source": [
    "import numpy as np\n",
    "missing = test_df.isnull().sum()\n",
    "missing = missing[missing > 0]\n",
    "missing = missing.sort_values(ascending = False)\n",
    "missing"
   ]
  },
  {
   "cell_type": "code",
   "execution_count": null,
   "id": "80f9ea54",
   "metadata": {},
   "outputs": [],
   "source": [
    "columns=[\"ambient_temperature\",\"reactive_power\",\"active_power_raw\",\"wind_speed_raw\",\"generator_winding_temp_max\",\"active_power_calculated_by_converter\",\"reactice_power_calculated_by_converter\",\n",
    "         \"wind_direction_raw\",\"wind_speed_turbulence\",\"grid_power10min_average\",\"nacelle_temp\",\"nc1_inside_temp\",\"ambient_temperature\"]\n",
    "for n in columns:\n",
    "    data = test_df[n][~test_df[n].isna()]\n",
    "    test_df[n] = test_df[n].fillna(np.percentile(data,60))\n",
    "    "
   ]
  },
  {
   "cell_type": "code",
   "execution_count": null,
   "id": "1157dae9",
   "metadata": {},
   "outputs": [],
   "source": [
    "missing = test_df.isnull().sum()\n",
    "missing = missing[missing > 0]\n",
    "missing = missing.sort_values(ascending = False)\n",
    "missing"
   ]
  },
  {
   "cell_type": "code",
   "execution_count": null,
   "id": "825c60a8",
   "metadata": {},
   "outputs": [],
   "source": [
    "df1=test_df[[\"active_power_calculated_by_converter\",\"active_power_raw\",\"reactive_power\",\"reactice_power_calculated_by_converter\",\"grid_power10min_average\",\"wind_speed_raw\",\"wind_speed_turbulence\",\"wind_direction_raw\"]]\n",
    "x = test_df.copy()"
   ]
  },
  {
   "cell_type": "code",
   "execution_count": null,
   "id": "f81d43df",
   "metadata": {},
   "outputs": [],
   "source": [
    "df1"
   ]
  },
  {
   "cell_type": "code",
   "execution_count": null,
   "id": "bd9359f6",
   "metadata": {},
   "outputs": [],
   "source": [
    "scaling=StandardScaler()\n",
    " \n",
    "# Use fit and transform method\n",
    "scaling.fit(df1)\n",
    "Scaled_data=scaling.transform(df1)\n",
    " \n",
    "#Set the n_components=3\n",
    "principal=PCA(n_components=1)\n",
    "principal.fit(Scaled_data)\n",
    "p=principal.transform(Scaled_data)\n",
    " \n",
    " #Check the dimensions of data after PCA\n",
    "print(p.shape)"
   ]
  },
  {
   "cell_type": "code",
   "execution_count": null,
   "id": "877c3632",
   "metadata": {},
   "outputs": [],
   "source": [
    "x.drop([\"active_power_calculated_by_converter\",\"active_power_raw\",\"reactive_power\",\"reactice_power_calculated_by_converter\",\n",
    "        \"grid_power10min_average\",\"wind_speed_raw\",\"wind_speed_turbulence\",\"wind_direction_raw\"],axis=1,inplace=True)"
   ]
  },
  {
   "cell_type": "code",
   "execution_count": null,
   "id": "831de0da",
   "metadata": {},
   "outputs": [],
   "source": [
    "df2=pd.DataFrame(p,columns=['pc_1'])\n",
    "df2"
   ]
  },
  {
   "cell_type": "code",
   "execution_count": null,
   "id": "3d2b81e6",
   "metadata": {},
   "outputs": [],
   "source": [
    "x = pd.concat([x,df2],axis=1,join='outer')\n",
    "x"
   ]
  },
  {
   "cell_type": "code",
   "execution_count": null,
   "id": "0fe4c5d7",
   "metadata": {},
   "outputs": [],
   "source": [
    "ids = x.pop('id')\n",
    "s = StandardScaler()\n",
    "data = s.fit_transform(x.values)\n",
    "data.mean()"
   ]
  },
  {
   "cell_type": "code",
   "execution_count": null,
   "id": "0de93f08",
   "metadata": {},
   "outputs": [],
   "source": [
    "data.min()"
   ]
  },
  {
   "cell_type": "code",
   "execution_count": null,
   "id": "ee3f86f8",
   "metadata": {},
   "outputs": [],
   "source": [
    "preds = RFR.predict(data)"
   ]
  },
  {
   "cell_type": "code",
   "execution_count": null,
   "id": "f1e107eb",
   "metadata": {},
   "outputs": [],
   "source": [
    "preds"
   ]
  },
  {
   "cell_type": "code",
   "execution_count": null,
   "id": "8c0bf8ae",
   "metadata": {},
   "outputs": [],
   "source": [
    "sub = {\n",
    "    'id':ids.values,\n",
    "    'Target':preds\n",
    "}\n",
    "sub = pd.DataFrame(sub)"
   ]
  },
  {
   "cell_type": "code",
   "execution_count": null,
   "id": "569bc50f",
   "metadata": {},
   "outputs": [],
   "source": [
    "sub.to_csv('submission3.csv',index=False)"
   ]
  },
  {
   "cell_type": "code",
   "execution_count": null,
   "id": "eea513b5",
   "metadata": {},
   "outputs": [],
   "source": []
  },
  {
   "cell_type": "code",
   "execution_count": null,
   "id": "53357a81",
   "metadata": {},
   "outputs": [],
   "source": []
  },
  {
   "cell_type": "code",
   "execution_count": null,
   "id": "9a1f3643",
   "metadata": {},
   "outputs": [],
   "source": []
  }
 ],
 "metadata": {
  "kernelspec": {
   "display_name": "Python 3 (ipykernel)",
   "language": "python",
   "name": "python3"
  },
  "language_info": {
   "codemirror_mode": {
    "name": "ipython",
    "version": 3
   },
   "file_extension": ".py",
   "mimetype": "text/x-python",
   "name": "python",
   "nbconvert_exporter": "python",
   "pygments_lexer": "ipython3",
   "version": "3.9.12"
  }
 },
 "nbformat": 4,
 "nbformat_minor": 5
}
